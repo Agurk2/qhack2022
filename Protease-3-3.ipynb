{
 "cells": [
  {
   "cell_type": "code",
   "execution_count": null,
   "metadata": {
    "colab": {
     "base_uri": "https://localhost:8080/"
    },
    "id": "R9nWkpLSYr-Q",
    "outputId": "f309a86e-8b58-4c5e-e52d-9b5450ea31b0"
   },
   "outputs": [],
   "source": [
    "pip install qiskit"
   ]
  },
  {
   "cell_type": "code",
   "execution_count": null,
   "metadata": {
    "colab": {
     "base_uri": "https://localhost:8080/"
    },
    "id": "WGflrVBaauWk",
    "outputId": "d9e86d0e-2652-4d42-fa00-b13f6bf6cefd"
   },
   "outputs": [],
   "source": [
    "pip install qiskit_nature"
   ]
  },
  {
   "cell_type": "code",
   "execution_count": null,
   "metadata": {
    "colab": {
     "base_uri": "https://localhost:8080/"
    },
    "id": "w60tIJ-d3OS3",
    "outputId": "e2cc8e9e-4582-454a-8914-5ac17430f726"
   },
   "outputs": [],
   "source": [
    "pip install PySCF"
   ]
  },
  {
   "cell_type": "code",
   "execution_count": 55,
   "metadata": {
    "id": "sG_gkHuhaZ5p"
   },
   "outputs": [],
   "source": [
    "from qiskit import Aer\n",
    "from qiskit_nature.drivers import PySCFDriver, UnitsType, Molecule\n",
    "from qiskit_nature.problems.second_quantization.electronic import ElectronicStructureProblem\n",
    "from qiskit_nature.mappers.second_quantization import JordanWignerMapper\n",
    "from qiskit_nature.converters.second_quantization import QubitConverter\n",
    "\n",
    "from qiskit_nature.transformers import ActiveSpaceTransformer\n",
    "from qiskit_nature.algorithms import GroundStateEigensolver, BOPESSampler\n",
    "from qiskit.algorithms import NumPyMinimumEigensolver\n",
    "\n",
    "from qiskit.utils import QuantumInstance, algorithm_globals\n",
    "\n",
    "from qiskit_nature.circuit.library.ansatzes import UCCSD\n",
    "from qiskit_nature.circuit.library.initial_states import HartreeFock\n",
    "from qiskit.circuit.library import TwoLocal\n",
    "\n",
    "from qiskit.algorithms import VQE\n",
    "from qiskit.algorithms.optimizers import COBYLA, L_BFGS_B, SLSQP\n",
    "\n",
    "from functools import partial as apply_variation_to_atom_pair\n",
    "import numpy as np\n",
    "import matplotlib.pyplot as plt\n",
    "\n",
    "from qiskit import IBMQ, assemble, transpile"
   ]
  },
  {
   "cell_type": "markdown",
   "metadata": {
    "id": "4Uo3SCqzFOpc"
   },
   "source": [
    "![imgsrv.fcgi.png](data:image/png;base64,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)\n",
    "\n",
    "Glutamine molecule is the key protease in SARS-Cov-2. To simulate the whole molecule, 40+ qubits and several weeks of computation time would be required -- unfeasible with current technology. \n",
    "\n",
    "However, by reducing the glutamine to NH₂C, we are able to simulate the binding of glutamine with a protease inhibitor, effectively achieving a speedup in the development of new SARS-Cov-2 vaccines.\n",
    "\n",
    "National Center for Biotechnology Information. \"PubChem Compound Summary for CID 5961, Glutamine\" PubChem, https://pubchem.ncbi.nlm.nih.gov/compound/Glutamine. Accessed 30 January, 2022."
   ]
  },
  {
   "cell_type": "code",
   "execution_count": 56,
   "metadata": {
    "id": "Lki1D_e9ahNL"
   },
   "outputs": [],
   "source": [
    "variation = Molecule.absolute_stretching\n",
    "\n",
    "#Other types of molecular variation:\n",
    "#molecular_variation = Molecule.relative_stretching\n",
    "#molecular_variation = Molecule.absolute_bending\n",
    "#molecular_variation = Molecule.relative_bending\n",
    "\n",
    "\n",
    "# Actual molecule that's currently too large\n",
    "\n",
    "#glutamine_molecule = Molecule(geometry=\n",
    "#                              [['O', [-2.1389, 1.637, 0.5099]],\n",
    "#                               ['O', [-2.6773, 0.2475, -1.1973]],\n",
    "#                               ['O', [2.9039, 0.2551, 1.0351]],\n",
    "#                               ['N', [-1.4789,  -1.8922, -0.0291]],\n",
    "#                               ['N', [3.2441, 0.1932, -1.2385]],\n",
    "#                               ['C', [0.1338, -0.2355, 0.8758]],\n",
    "#                               ['C', [-1.3424, -0.6086, 0.659]],\n",
    "#                               ['C', [1.0032,  -0.1458, -0.3839]],\n",
    "#                               ['C', [-2.1158, 0.4356, -0.1257]],\n",
    "#                               ['C', [2.4683, 0.1136, -0.1257]],\n",
    "#                               ['H', [0.1904, 0.7236, -0.1051]],\n",
    "#                               ['H', [0.5783, -0.9764, 1.4071]],\n",
    "#                               ['H', [-0.18319, -0.7041, 1.5545]],\n",
    "#                               ['H', [0.95,-1.0821, -0.9509]],\n",
    "#                               ['H', [0.6339, 0.6568,-1.0331]],\n",
    "#                               ['H', [-1.136,-1.8186,-0.9858]],\n",
    "#                               ['H', [-2.4648,-2.142,-0.0988]],\n",
    "#                               ['H', [2.856,0.078,-2.1693]],\n",
    "#                               ['H', [4.2414,0.3697,-1.1781]],\n",
    "#                               ['H', [-2.645,2.3081,0.0041]],\n",
    "#                               ['C', [-1.4789, -1.8922, -1]]], # Carbon inhibitor\n",
    "#                              charge=0, multiplicity=1)\n",
    "\n",
    "specific_variation = apply_variation_to_atom_pair(variation, atom_pair=(4, 2))\n",
    "\n",
    "# Modified version of glutamine\n",
    "toy_glutamine = Molecule(geometry=\n",
    "                        [['H', [-0.18319, -0.7041, 1.5545]],\n",
    "                         ['H', [-1.136,-1.8186,-0.9858]],\n",
    "                         ['N', [-1.4789,  -1.8922, -0.0291]],\n",
    "                         ['C', [-1.3424, -0.6086, 0.659]],\n",
    "                         ['C', [-0.5200, -1.9200, 0.000]]], # Carbon inhibitor\n",
    "                          charge=3, multiplicity=1, degrees_of_freedom=[specific_variation])\n",
    "# -1.4789, -1.8922, -1"
   ]
  },
  {
   "cell_type": "code",
   "execution_count": 57,
   "metadata": {
    "colab": {
     "base_uri": "https://localhost:8080/"
    },
    "id": "KfEMk5QEohoO",
    "outputId": "40cee55e-14e2-4ad6-e910-ebf066b46723"
   },
   "outputs": [],
   "source": [
    "import os\n",
    "MAX_MEMORY = int (os.environ.get ('MAX_MEMORY', 80000))## Memory in MB\n",
    "orbital_maker = PySCFDriver(molecule=toy_glutamine, unit=UnitsType.ANGSTROM, basis='sto3g', max_memory=MAX_MEMORY)\n",
    "transformer = ActiveSpaceTransformer(num_electrons=2, num_molecular_orbitals=2)\n",
    "fermonic_hamiltonian = ElectronicStructureProblem(orbital_maker, [transformer])\n",
    "\n",
    "# Parity mapper to reduce qubits required\n",
    "fermonic_hamiltonian.second_q_ops()\n",
    "\n",
    "#\n",
    "fermions_to_q = QubitConverter(JordanWignerMapper())"
   ]
  },
  {
   "cell_type": "markdown",
   "metadata": {
    "id": "4Uo3SCqzFOpc"
   },
   "source": [
    "Solve using hardware"
   ]
  },
  {
   "cell_type": "code",
   "execution_count": 58,
   "metadata": {},
   "outputs": [],
   "source": [
    "hardware_trial = TwoLocal(num_qubits=5, rotation_blocks = ['rz'], entanglement_blocks = 'cx',\n",
    "                                   entanglement='full', reps=3, skip_unentangled_qubits=True, skip_final_rotation_layer=True)    "
   ]
  },
  {
   "cell_type": "code",
   "execution_count": 59,
   "metadata": {},
   "outputs": [
    {
     "name": "stdout",
     "output_type": "stream",
     "text": [
      " ========COBYLA======== \n",
      "\n",
      "=== GROUND STATE ENERGY ===\n",
      " \n",
      "* Electronic ground state energy (Hartree): -186.593645874189\n",
      "  - computed part:      0.0\n",
      "  - ActiveSpaceTransformer extracted energy part: -186.593645874189\n",
      "~ Nuclear repulsion energy (Hartree): 63.073340159141\n",
      "> Total ground state energy (Hartree): -123.520305715048\n",
      " \n",
      "=== MEASURED OBSERVABLES ===\n",
      " \n",
      "  0:  # Particles: 0.000 S: 0.000 S^2: 0.000 M: 0.000\n",
      " \n",
      "=== DIPOLE MOMENTS ===\n",
      " \n",
      "~ Nuclear dipole moment (a.u.): [-43.17247517  -58.46755938  8.16172713]\n",
      " \n",
      "  0: \n",
      "  * Electronic dipole moment (a.u.): [-35.69402272  -45.518517  5.6044376]\n",
      "    - computed part:      [0.0  0.0  0.0]\n",
      "    - ActiveSpaceTransformer extracted energy part: [-35.69402272  -45.518517  5.6044376]\n",
      "  > Dipole moment (a.u.): [-7.47845245  -12.94904238  2.55728953]  Total: 15.17052007\n",
      "                 (debye): [-19.00832832  -32.91317966  6.49998103]  Total: 38.55961221\n",
      " \n",
      "\n",
      " \n",
      " ========L_BFGS_B======== \n",
      "\n",
      "=== GROUND STATE ENERGY ===\n",
      " \n",
      "* Electronic ground state energy (Hartree): -186.593645874189\n",
      "  - computed part:      0.0\n",
      "  - ActiveSpaceTransformer extracted energy part: -186.593645874189\n",
      "~ Nuclear repulsion energy (Hartree): 63.073340159141\n",
      "> Total ground state energy (Hartree): -123.520305715048\n",
      " \n",
      "=== MEASURED OBSERVABLES ===\n",
      " \n",
      "  0:  # Particles: 0.000 S: 0.000 S^2: 0.000 M: 0.000\n",
      " \n",
      "=== DIPOLE MOMENTS ===\n",
      " \n",
      "~ Nuclear dipole moment (a.u.): [-43.17247517  -58.46755938  8.16172713]\n",
      " \n",
      "  0: \n",
      "  * Electronic dipole moment (a.u.): [-35.69402272  -45.518517  5.6044376]\n",
      "    - computed part:      [0.0  0.0  0.0]\n",
      "    - ActiveSpaceTransformer extracted energy part: [-35.69402272  -45.518517  5.6044376]\n",
      "  > Dipole moment (a.u.): [-7.47845245  -12.94904238  2.55728953]  Total: 15.17052007\n",
      "                 (debye): [-19.00832832  -32.91317966  6.49998103]  Total: 38.55961221\n",
      " \n",
      "\n",
      " \n",
      " ========SLSQP======== \n",
      "\n",
      "=== GROUND STATE ENERGY ===\n",
      " \n",
      "* Electronic ground state energy (Hartree): -186.593645874189\n",
      "  - computed part:      0.0\n",
      "  - ActiveSpaceTransformer extracted energy part: -186.593645874189\n",
      "~ Nuclear repulsion energy (Hartree): 63.073340159141\n",
      "> Total ground state energy (Hartree): -123.520305715047\n",
      " \n",
      "=== MEASURED OBSERVABLES ===\n",
      " \n",
      "  0:  # Particles: 0.000 S: 0.000 S^2: 0.000 M: 0.000\n",
      " \n",
      "=== DIPOLE MOMENTS ===\n",
      " \n",
      "~ Nuclear dipole moment (a.u.): [-43.17247517  -58.46755938  8.16172713]\n",
      " \n",
      "  0: \n",
      "  * Electronic dipole moment (a.u.): [-35.69402272  -45.518517  5.6044376]\n",
      "    - computed part:      [0.0  0.0  0.0]\n",
      "    - ActiveSpaceTransformer extracted energy part: [-35.69402272  -45.518517  5.6044376]\n",
      "  > Dipole moment (a.u.): [-7.47845245  -12.94904238  2.55728953]  Total: 15.17052007\n",
      "                 (debye): [-19.00832832  -32.91317966  6.49998103]  Total: 38.55961221\n",
      " \n",
      "Total number of adjustable parameters:  12\n"
     ]
    }
   ],
   "source": [
    "from qiskit.opflow.gradients import Gradient\n",
    "algorithm_globals.random_seed = 50\n",
    "\n",
    "optimizers = [COBYLA(maxiter=80), L_BFGS_B(maxiter=60), SLSQP(maxiter=60)]\n",
    "\n",
    "e_result = []\n",
    "for i, optimizers in enumerate(optimizers):\n",
    "    \n",
    "    counts = []\n",
    "    values = []\n",
    "    def store_intermediate_result(eval_count, parameters, mean, std):\n",
    "        counts.append(eval_count)\n",
    "        values.append(mean)\n",
    "    \n",
    "    quantum_environment = QuantumInstance(Aer.get_backend('statevector_simulator'))\n",
    "    vqe = VQE(ansatz=hardware_trial, optimizer=optimizers, callback=store_intermediate_result, quantum_instance=quantum_environment)\n",
    "    \n",
    "    ground_state = GroundStateEigensolver(fermions_to_q, vqe)\n",
    "    e_result.append(BOPESSampler(gss=ground_state, bootstrap=False))\n",
    "    \n",
    "    res = ground_state.solve(fermonic_hamiltonian)\n",
    "    if i == 0:\n",
    "        print(\" ========COBYLA======== \\n\")\n",
    "        print(res)\n",
    "    elif i == 1:\n",
    "        print(\"\\n \\n ========L_BFGS_B======== \\n\")\n",
    "        print(res)\n",
    "    else:\n",
    "        print(\"\\n \\n ========SLSQP======== \\n\")\n",
    "        print(res)\n",
    "\n",
    "total_number_of_parameters = len(hardware_trial._ordered_parameters)\n",
    "print(\"Total number of adjustable parameters: \", total_number_of_parameters)"
   ]
  },
  {
   "cell_type": "code",
   "execution_count": 60,
   "metadata": {},
   "outputs": [],
   "source": [
    "e_s_result = []\n",
    "for i, e_result in enumerate(e_result):\n",
    "    e_s_result.append(e_result.sample(fermonic_hamiltonian, np.linspace(-0.5, 5, 30)))"
   ]
  },
  {
   "cell_type": "markdown",
   "metadata": {},
   "source": [
    "Solve using Hartree-Fock approximation"
   ]
  },
  {
   "cell_type": "code",
   "execution_count": 61,
   "metadata": {},
   "outputs": [
    {
     "name": "stdout",
     "output_type": "stream",
     "text": [
      "=== GROUND STATE ENERGY ===\n",
      " \n",
      "* Electronic ground state energy (Hartree): -160.141290443676\n",
      "  - computed part:      -2.448219405869\n",
      "  - ActiveSpaceTransformer extracted energy part: -157.693071037807\n",
      "~ Nuclear repulsion energy (Hartree): 32.362066758925\n",
      "> Total ground state energy (Hartree): -127.779223684751\n",
      " \n",
      "=== MEASURED OBSERVABLES ===\n",
      " \n",
      "  0:  # Particles: 2.000 S: 0.000 S^2: 0.000 M: 0.000\n",
      " \n",
      "=== DIPOLE MOMENTS ===\n",
      " \n",
      "~ Nuclear dipole moment (a.u.): [13.46944408  -60.10969657  9.88065491]\n",
      " \n",
      "  0: \n",
      "  * Electronic dipole moment (a.u.): [9.25224318  -52.2594451  8.25010467]\n",
      "    - computed part:      [5.59520051  -5.79731626  1.0239443]\n",
      "    - ActiveSpaceTransformer extracted energy part: [3.65704267  -46.46212884  7.22616036]\n",
      "  > Dipole moment (a.u.): [4.2172009  -7.85025147  1.63055024]  Total: 9.05924532\n",
      "                 (debye): [10.71905451  -19.95334709  4.14444493]  Total: 23.02630264\n",
      " \n"
     ]
    }
   ],
   "source": [
    "molecule_info = fermonic_hamiltonian.molecule_data_transformed\n",
    "mol_orbitals = molecule_info.num_molecular_orbitals\n",
    "spin_orbitals = 2 * mol_orbitals\n",
    "electrons_up_down = (\n",
    "            molecule_info.num_alpha,\n",
    "            molecule_info.num_beta,\n",
    "        )\n",
    "initial_state = HartreeFock(spin_orbitals, electrons_up_down, fermions_to_q)\n",
    "\n",
    "chemistry_trial = UCCSD(\n",
    "            fermions_to_q,\n",
    "            electrons_up_down,\n",
    "            spin_orbitals,\n",
    "            initial_state=initial_state,\n",
    "        )\n",
    "\n",
    "vqe = VQE(ansatz=chemistry_trial, quantum_instance=quantum_environment)\n",
    "\n",
    "ground_state = GroundStateEigensolver(fermions_to_q, vqe)\n",
    "energy_surface_result = BOPESSampler(gss=ground_state, bootstrap=False)\n",
    "\n",
    "res = ground_state.solve(fermonic_hamiltonian)\n",
    "print(res)"
   ]
  },
  {
   "cell_type": "code",
   "execution_count": 62,
   "metadata": {},
   "outputs": [],
   "source": [
    "e_s_result.append(energy_surface_result.sample(fermonic_hamiltonian, np.linspace(-0.5, 5, 30)))"
   ]
  },
  {
   "cell_type": "code",
   "execution_count": 65,
   "metadata": {},
   "outputs": [],
   "source": [
    "def plot_energy_landscape(energy_surface_result):\n",
    "    if len(energy_surface_result[0].points) > 1:\n",
    "      plt.plot(energy_surface_result[0].points, energy_surface_result[0].energies, \n",
    "      label=\"COBYLA\")\n",
    "      plt.plot(energy_surface_result[1].points, energy_surface_result[1].energies, \n",
    "      label=\"L_BFGS_B\")\n",
    "      plt.plot(energy_surface_result[2].points, energy_surface_result[2].energies, \n",
    "      label=\"SLSQP\")\n",
    "      plt.plot(energy_surface_result[3].points, energy_surface_result[3].energies, \n",
    "      label=\"HartreeFock\")\n",
    "      plt.xlabel('Atomic distance Deviation(Angstrom)')\n",
    "      plt.ylabel('Energy (hartree)')\n",
    "      plt.legend()\n",
    "      plt.show()\n",
    "    else:\n",
    "        print(\"Total Energy is: \", energy_surface_result.energies[0], \"hartree\")\n",
    "        print(\"(No need to plot, only one configuration calculated.)\")"
   ]
  },
  {
   "cell_type": "code",
   "execution_count": 66,
   "metadata": {
    "id": "ZndobNmjPXNB"
   },
   "outputs": [
    {
     "data": {
      "image/png": "[encoded data removed]",
      "text/plain": [
       "<Figure size 432x288 with 1 Axes>"
      ]
     },
     "metadata": {
      "needs_background": "light"
     },
     "output_type": "display_data"
    }
   ],
   "source": [
    "plot_energy_landscape(e_s_result)"
   ]
  },
  {
   "cell_type": "markdown",
   "metadata": {},
   "source": [
    "Note that the optimizers overlap at the green line"
   ]
  },
  {
   "cell_type": "code",
   "execution_count": null,
   "metadata": {},
   "outputs": [],
   "source": [
    "vqe.print_settings()"
   ]
  },
  {
   "cell_type": "code",
   "execution_count": null,
   "metadata": {},
   "outputs": [],
   "source": []
  }
 ],
 "metadata": {
  "accelerator": "GPU",
  "colab": {
   "collapsed_sections": [],
   "name": "Protease.ipynb",
   "provenance": []
  },
  "kernelspec": {
   "display_name": "Qiskit v0.34.2 (ipykernel)",
   "language": "python",
   "name": "python3"
  },
  "language_info": {
   "codemirror_mode": {
    "name": "ipython",
    "version": 3
   },
   "file_extension": ".py",
   "mimetype": "text/x-python",
   "name": "python",
   "nbconvert_exporter": "python",
   "pygments_lexer": "ipython3",
   "version": "3.8.12"
  },
  "widgets": {
   "application/vnd.jupyter.widget-state+json": {
    "state": {},
    "version_major": 2,
    "version_minor": 0
   }
  }
 },
 "nbformat": 4,
 "nbformat_minor": 4
}
