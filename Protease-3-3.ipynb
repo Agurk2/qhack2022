{
 "cells": [
  {
   "cell_type": "code",
   "execution_count": null,
   "metadata": {
    "colab": {
     "base_uri": "https://localhost:8080/"
    },
    "id": "R9nWkpLSYr-Q",
    "outputId": "f309a86e-8b58-4c5e-e52d-9b5450ea31b0"
   },
   "outputs": [],
   "source": [
    "pip install qiskit"
   ]
  },
  {
   "cell_type": "code",
   "execution_count": null,
   "metadata": {
    "colab": {
     "base_uri": "https://localhost:8080/"
    },
    "id": "WGflrVBaauWk",
    "outputId": "d9e86d0e-2652-4d42-fa00-b13f6bf6cefd"
   },
   "outputs": [],
   "source": [
    "pip install qiskit_nature"
   ]
  },
  {
   "cell_type": "code",
   "execution_count": null,
   "metadata": {
    "colab": {
     "base_uri": "https://localhost:8080/"
    },
    "id": "w60tIJ-d3OS3",
    "outputId": "e2cc8e9e-4582-454a-8914-5ac17430f726"
   },
   "outputs": [],
   "source": [
    "pip install PySCF"
   ]
  },
  {
   "cell_type": "code",
   "execution_count": 1,
   "metadata": {
    "id": "sG_gkHuhaZ5p"
   },
   "outputs": [
    {
     "name": "stderr",
     "output_type": "stream",
     "text": [
      "<frozen importlib._bootstrap>:219: RuntimeWarning: scipy._lib.messagestream.MessageStream size changed, may indicate binary incompatibility. Expected 56 from C header, got 64 from PyObject\n"
     ]
    }
   ],
   "source": [
    "from qiskit import Aer\n",
    "from qiskit_nature.drivers import PySCFDriver, UnitsType, Molecule\n",
    "from qiskit_nature.problems.second_quantization.electronic import ElectronicStructureProblem\n",
    "from qiskit_nature.mappers.second_quantization import JordanWignerMapper, BravyiKitaevMapper\n",
    "from qiskit_nature.converters.second_quantization import QubitConverter\n",
    "from qiskit_nature.drivers.second_quantization import ElectronicStructureMoleculeDriver\n",
    "\n",
    "from qiskit_nature.transformers import ActiveSpaceTransformer\n",
    "from qiskit_nature.algorithms import GroundStateEigensolver, BOPESSampler\n",
    "from qiskit.algorithms import NumPyMinimumEigensolver\n",
    "\n",
    "from qiskit.utils import QuantumInstance\n",
    "\n",
    "from qiskit_nature.circuit.library.ansatzes import UCCSD\n",
    "from qiskit_nature.circuit.library.initial_states import HartreeFock\n",
    "from qiskit.circuit.library import TwoLocal\n",
    "\n",
    "from qiskit.algorithms import VQE\n",
    "from qiskit.algorithms.optimizers import COBYLA\n",
    "\n",
    "from functools import partial as apply_variation_to_atom_pair\n",
    "import numpy as np\n",
    "import matplotlib.pyplot as plt\n",
    "\n",
    "from qiskit import IBMQ, assemble, transpile"
   ]
  },
  {
   "cell_type": "markdown",
   "metadata": {
    "id": "4Uo3SCqzFOpc"
   },
   "source": [
    "![imgsrv.fcgi.png](data:image/png;base64,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)\n",
    "\n",
    "Glutamine molecule is the key protease in SARS-Cov-2. To simulate the whole molecule, 40+ qubits and several weeks of computation time would be required -- unfeasible with current technology. \n",
    "\n",
    "However, by reducing the glutamine to NH₂C, we are able to simulate the binding of glutamine with a protease inhibitor, effectively achieving a speedup in the development of new SARS-Cov-2 vaccines.\n",
    "\n",
    "National Center for Biotechnology Information. \"PubChem Compound Summary for CID 5961, Glutamine\" PubChem, https://pubchem.ncbi.nlm.nih.gov/compound/Glutamine. Accessed 30 January, 2022."
   ]
  },
  {
   "cell_type": "code",
   "execution_count": 2,
   "metadata": {
    "id": "Lki1D_e9ahNL"
   },
   "outputs": [],
   "source": [
    "variation = Molecule.relative_stretching\n",
    "\n",
    "#Other types of molecular variation:\n",
    "#molecular_variation = Molecule.relative_stretching\n",
    "#molecular_variation = Molecule.absolute_bending\n",
    "#molecular_variation = Molecule.relative_bending\n",
    "\n",
    "\n",
    "# Actual molecule that's currently too large\n",
    "\n",
    "#glutamine_molecule = Molecule(geometry=\n",
    "#                              [['O', [-2.1389, 1.637, 0.5099]],\n",
    "#                               ['O', [-2.6773, 0.2475, -1.1973]],\n",
    "#                               ['O', [2.9039, 0.2551, 1.0351]],\n",{
 "cells": [
  {
   "cell_type": "code",
   "execution_count": null,
   "metadata": {
    "colab": {
     "base_uri": "https://localhost:8080/"
    },
    "id": "R9nWkpLSYr-Q",
    "outputId": "f309a86e-8b58-4c5e-e52d-9b5450ea31b0"
   },
   "outputs": [],
   "source": [
    "pip install qiskit"
   ]
  },
  {
   "cell_type": "code",
   "execution_count": null,
   "metadata": {
    "colab": {
     "base_uri": "https://localhost:8080/"
    },
    "id": "WGflrVBaauWk",
    "outputId": "d9e86d0e-2652-4d42-fa00-b13f6bf6cefd"
   },
   "outputs": [],
   "source": [
    "pip install qiskit_nature"
   ]
  },
  {
   "cell_type": "code",
   "execution_count": null,
   "metadata": {
    "colab": {
     "base_uri": "https://localhost:8080/"
    },
    "id": "w60tIJ-d3OS3",
    "outputId": "e2cc8e9e-4582-454a-8914-5ac17430f726"
   },
   "outputs": [],
   "source": [
    "pip install PySCF"
   ]
  },
  {
   "cell_type": "code",
   "execution_count": 7,
   "metadata": {
    "id": "sG_gkHuhaZ5p"
   },
   "outputs": [],
   "source": [
    "from qiskit import Aer\n",
    "from qiskit_nature.drivers import PySCFDriver, UnitsType, Molecule\n",
    "from qiskit_nature.problems.second_quantization.electronic import ElectronicStructureProblem\n",
    "from qiskit_nature.mappers.second_quantization import JordanWignerMapper\n",
    "from qiskit_nature.converters.second_quantization import QubitConverter\n",
    "from qiskit_nature.drivers.second_quantization import ElectronicStructureMoleculeDriver\n",
    "\n",
    "from qiskit_nature.transformers import ActiveSpaceTransformer\n",
    "from qiskit_nature.algorithms import GroundStateEigensolver, BOPESSampler\n",
    "from qiskit.algorithms import NumPyMinimumEigensolver\n",
    "#from qiskit.chemistry.transformations import (FermionicTransformation,\n",
    "#                                              FermionicTransformationType,\n",
    "#                                              FermionicQubitMappingType)\n",
    "\n",
    "from qiskit.utils import QuantumInstance, algorithm_globals\n",
    "\n",
    "from qiskit_nature.circuit.library.ansatzes import UCCSD\n",
    "from qiskit_nature.circuit.library.initial_states import HartreeFock\n",
    "from qiskit.circuit.library import TwoLocal\n",
    "\n",
    "from qiskit.algorithms import VQE\n",
    "from qiskit.algorithms.optimizers import COBYLA, L_BFGS_B, SLSQP\n",
    "\n",
    "from functools import partial as apply_variation_to_atom_pair\n",
    "import numpy as np\n",
    "import matplotlib.pyplot as plt\n",
    "\n",
    "from qiskit import IBMQ, assemble, transpile"
   ]
  },
  {
   "cell_type": "markdown",
   "metadata": {
    "id": "4Uo3SCqzFOpc"
   },
   "source": [
    "![imgsrv.fcgi.png](data:image/png;base64,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)\n",
    "\n",
    "Glutamine molecule is the key protease in SARS-Cov-2. To simulate the whole molecule, 40+ qubits and several weeks of computation time would be required -- unfeasible with current technology. \n",
    "\n",
    "However, by reducing the glutamine to NH₂C, we are able to simulate the binding of glutamine with a protease inhibitor, effectively achieving a speedup in the development of new SARS-Cov-2 vaccines.\n",
    "\n",
    "National Center for Biotechnology Information. \"PubChem Compound Summary for CID 5961, Glutamine\" PubChem, https://pubchem.ncbi.nlm.nih.gov/compound/Glutamine. Accessed 30 January, 2022."
   ]
  },
  {
   "cell_type": "code",
   "execution_count": 8,
   "metadata": {
    "id": "Lki1D_e9ahNL"
   },
   "outputs": [],
   "source": [
    "variation = Molecule.relative_stretching\n",
    "\n",
    "#Other types of molecular variation:\n",
    "#molecular_variation = Molecule.relative_stretching\n",
    "#molecular_variation = Molecule.absolute_bending\n",
    "#molecular_variation = Molecule.relative_bending\n",
    "\n",
    "\n",
    "# Actual molecule that's currently too large\n",
    "\n",
    "#glutamine_molecule = Molecule(geometry=\n",
    "#                              [['O', [-2.1389, 1.637, 0.5099]],\n",
    "#                               ['O', [-2.6773, 0.2475, -1.1973]],\n",
    "#                               ['O', [2.9039, 0.2551, 1.0351]],\n",
    "#                               ['N', [-1.4789,  -1.8922, -0.0291]],\n",
    "#                               ['N', [3.2441, 0.1932, -1.2385]],\n",
    "#                               ['C', [0.1338, -0.2355, 0.8758]],\n",
    "#                               ['C', [-1.3424, -0.6086, 0.659]],\n",
    "#                               ['C', [1.0032,  -0.1458, -0.3839]],\n",
    "#                               ['C', [-2.1158, 0.4356, -0.1257]],\n",
    "#                               ['C', [2.4683, 0.1136, -0.1257]],\n",
    "#                               ['H', [0.1904, 0.7236, -0.1051]],\n",
    "#                               ['H', [0.5783, -0.9764, 1.4071]],\n",
    "#                               ['H', [-0.18319, -0.7041, 1.5545]],\n",
    "#                               ['H', [0.95,-1.0821, -0.9509]],\n",
    "#                               ['H', [0.6339, 0.6568,-1.0331]],\n",
    "#                               ['H', [-1.136,-1.8186,-0.9858]],\n",
    "#                               ['H', [-2.4648,-2.142,-0.0988]],\n",
    "#                               ['H', [2.856,0.078,-2.1693]],\n",
    "#                               ['H', [4.2414,0.3697,-1.1781]],\n",
    "#                               ['H', [-2.645,2.3081,0.0041]],\n",
    "#                               ['C', [-1.4789, -1.8922, -1]]], # Carbon inhibitor\n",
    "#                              charge=0, multiplicity=1)\n",
    "\n",
    "specific_variation = apply_variation_to_atom_pair(variation, atom_pair=(4, 2))\n",
    "\n",
    "# Modified version of glutamine\n",
    "toy_glutamine = Molecule(geometry=\n",
    "                        [['H', [-0.18319, -0.7041, 1.5545]],\n",
    "                         ['H', [-1.136,-1.8186,-0.9858]],\n",
    "                         ['N', [-1.4789,  -1.8922, -0.0291]],\n",
    "                         ['C', [-1.3424, -0.6086, 0.659]],\n",
    "                         ['C', [-1.4789, -1.8922, -1]]], # Carbon inhibitor\n",
    "                          charge=3, multiplicity=1, degrees_of_freedom=[specific_variation]) "
   ]
  },
  {
   "cell_type": "code",
   "execution_count": 9,
   "metadata": {
    "colab": {
     "base_uri": "https://localhost:8080/"
    },
    "id": "KfEMk5QEohoO",
    "outputId": "40cee55e-14e2-4ad6-e910-ebf066b46723"
   },
   "outputs": [
    {
     "name": "stderr",
     "output_type": "stream",
     "text": [
      "/tmp/ipykernel_60/1573722630.py:3: DeprecationWarning: The PySCFDriver class is deprecated as of version 0.2.0 and will be removed no sooner than 3 months after the release. Instead use the PySCFDriver class from qiskit_nature.drivers.second_quantization.pyscfd.\n",
      "  orbital_maker = PySCFDriver(molecule=toy_glutamine, unit=UnitsType.ANGSTROM, basis='sto3g', max_memory=MAX_MEMORY)\n",
      "/tmp/ipykernel_60/1573722630.py:4: DeprecationWarning: The ActiveSpaceTransformer class is deprecated as of version 0.2.0 and will be removed no sooner than 3 months after the release. Instead use the ActiveSpaceTransformer class from qiskit_nature.transformers.second_quantization.electronic as a direct replacement.\n",
      "  transformer = ActiveSpaceTransformer(num_electrons=2, num_molecular_orbitals=2)\n"
     ]
    }
   ],
   "source": [
    "import os\n",
    "MAX_MEMORY = int (os.environ.get ('MAX_MEMORY', 80000))## Memory in MB\n",
    "orbital_maker = PySCFDriver(molecule=toy_glutamine, unit=UnitsType.ANGSTROM, basis='sto3g', max_memory=MAX_MEMORY)\n",
    "transformer = ActiveSpaceTransformer(num_electrons=2, num_molecular_orbitals=2)\n",
    "fermonic_hamiltonian = ElectronicStructureProblem(orbital_maker, [transformer])\n",
    "\n",
    "fermonic_hamiltonian.second_q_ops()\n",
    "fermions_to_q = QubitConverter(JordanWignerMapper())"
   ]
  },
  {
   "cell_type": "markdown",
   "metadata": {
    "id": "4Uo3SCqzFOpc"
   },
   "source": [
    "Solve using hardware"
   ]
  },
  {
   "cell_type": "code",
   "execution_count": 10,
   "metadata": {},
   "outputs": [],
   "source": [
    "hardware_trial = TwoLocal(num_qubits=5, rotation_blocks = ['rz'], entanglement_blocks = 'cx',\n",
    "                                   entanglement='full', reps=3, skip_unentangled_qubits=True, skip_final_rotation_layer=True)    "
   ]
  },
  {
   "cell_type": "code",
   "execution_count": 21,
   "metadata": {},
   "outputs": [
    {
     "name": "stdout",
     "output_type": "stream",
     "text": [
      " ========COBYLA======== \n",
      "\n",
      "=== GROUND STATE ENERGY ===\n",
      " \n",
      "* Electronic ground state energy (Hartree): -187.049848401788\n",
      "  - computed part:      0.0\n",
      "  - ActiveSpaceTransformer extracted energy part: -187.049848401788\n",
      "~ Nuclear repulsion energy (Hartree): 66.309399707584\n",
      "> Total ground state energy (Hartree): -120.740448694204\n",
      " \n",
      "=== MEASURED OBSERVABLES ===\n",
      " \n",
      "  0:  # Particles: 0.000 S: 0.000 S^2: 0.000 M: 0.000\n",
      " \n",
      "=== DIPOLE MOMENTS ===\n",
      " \n",
      "~ Nuclear dipole moment (a.u.): [-54.04482546  -58.15235306  -3.17662962]\n",
      " \n",
      "  0: \n",
      "  * Electronic dipole moment (a.u.): [-41.44500423  -45.04875759  -2.36122938]\n",
      "    - computed part:      [0.0  0.0  0.0]\n",
      "    - ActiveSpaceTransformer extracted energy part: [-41.44500423  -45.04875759  -2.36122938]\n",
      "  > Dipole moment (a.u.): [-12.59982123  -13.10359547  -0.81540024]  Total: 18.19682903\n",
      "                 (debye): [-32.02554811  -33.30601439  -2.07254048]  Total: 46.2517216\n",
      " \n",
      "\n",
      " \n",
      " ========L_BFGS_B======== \n",
      "\n",
      "=== GROUND STATE ENERGY ===\n",
      " \n",
      "* Electronic ground state energy (Hartree): -187.049848401788\n",
      "  - computed part:      0.0\n",
      "  - ActiveSpaceTransformer extracted energy part: -187.049848401788\n",
      "~ Nuclear repulsion energy (Hartree): 66.309399707584\n",
      "> Total ground state energy (Hartree): -120.740448694204\n",
      " \n",
      "=== MEASURED OBSERVABLES ===\n",
      " \n",
      "  0:  # Particles: 0.000 S: 0.000 S^2: 0.000 M: 0.000\n",
      " \n",
      "=== DIPOLE MOMENTS ===\n",
      " \n",
      "~ Nuclear dipole moment (a.u.): [-54.04482546  -58.15235306  -3.17662962]\n",
      " \n",
      "  0: \n",
      "  * Electronic dipole moment (a.u.): [-41.44500423  -45.04875759  -2.36122938]\n",
      "    - computed part:      [0.0  0.0  0.0]\n",
      "    - ActiveSpaceTransformer extracted energy part: [-41.44500423  -45.04875759  -2.36122938]\n",
      "  > Dipole moment (a.u.): [-12.59982123  -13.10359547  -0.81540024]  Total: 18.19682903\n",
      "                 (debye): [-32.02554811  -33.30601439  -2.07254048]  Total: 46.2517216\n",
      " \n",
      "\n",
      " \n",
      " ========SLSQP======== \n",
      "\n",
      "=== GROUND STATE ENERGY ===\n",
      " \n",
      "* Electronic ground state energy (Hartree): -187.049848401788\n",
      "  - computed part:      0.0\n",
      "  - ActiveSpaceTransformer extracted energy part: -187.049848401788\n",
      "~ Nuclear repulsion energy (Hartree): 66.309399707584\n",
      "> Total ground state energy (Hartree): -120.740448694204\n",
      " \n",
      "=== MEASURED OBSERVABLES ===\n",
      " \n",
      "  0:  # Particles: 0.000 S: 0.000 S^2: 0.000 M: 0.000\n",
      " \n",
      "=== DIPOLE MOMENTS ===\n",
      " \n",
      "~ Nuclear dipole moment (a.u.): [-54.04482546  -58.15235306  -3.17662962]\n",
      " \n",
      "  0: \n",
      "  * Electronic dipole moment (a.u.): [-41.44500423  -45.04875759  -2.36122938]\n",
      "    - computed part:      [0.0  0.0  0.0]\n",
      "    - ActiveSpaceTransformer extracted energy part: [-41.44500423  -45.04875759  -2.36122938]\n",
      "  > Dipole moment (a.u.): [-12.59982123  -13.10359547  -0.81540024]  Total: 18.19682903\n",
      "                 (debye): [-32.02554811  -33.30601439  -2.07254048]  Total: 46.2517216\n",
      " \n",
      "Total number of adjustable parameters:  12\n"
     ]
    }
   ],
   "source": [
    "from qiskit.opflow.gradients import Gradient\n",
    "algorithm_globals.random_seed = 50\n",
    "\n",
    "optimizers = [COBYLA(maxiter=80), L_BFGS_B(maxiter=60), SLSQP(maxiter=60)]\n",
    "\n",
    "e_result = []\n",
    "for i, optimizers in enumerate(optimizers):\n",
    "    \n",
    "    counts = []\n",
    "    values = []\n",
    "    def store_intermediate_result(eval_count, parameters, mean, std):\n",
    "        counts.append(eval_count)\n",
    "        values.append(mean)\n",
    "    \n",
    "    quantum_environment = QuantumInstance(Aer.get_backend('statevector_simulator'))\n",
    "    vqe = VQE(ansatz=hardware_trial, optimizer=optimizers, callback=store_intermediate_result, quantum_instance=quantum_environment)\n",
    "    \n",
    "    ground_state = GroundStateEigensolver(fermions_to_q, vqe)\n",
    "    e_result.append(BOPESSampler(gss=ground_state, bootstrap=False))\n",
    "    \n",
    "    res = ground_state.solve(fermonic_hamiltonian)\n",
    "    if i == 0:\n",
    "        print(\" ========COBYLA======== \\n\")\n",
    "        print(res)\n",
    "    elif i == 1:\n",
    "        print(\"\\n \\n ========L_BFGS_B======== \\n\")\n",
    "        print(res)\n",
    "    else:\n",
    "        print(\"\\n \\n ========SLSQP======== \\n\")\n",
    "        print(res)\n",
    "\n",
    "total_number_of_parameters = len(hardware_trial._ordered_parameters)\n",
    "print(\"Total number of adjustable parameters: \", total_number_of_parameters)"
   ]
  },
  {
   "cell_type": "code",
   "execution_count": null,
   "metadata": {},
   "outputs": [],
   "source": [
    "e_s_result = []\n",
    "for i, e_result in enumerate(e_result):\n",
    "    e_s_result.append(e_result.sample(fermonic_hamiltonian, np.linspace(-0.5, 5, 30)))"
   ]
  },
  {
   "cell_type": "markdown",
   "metadata": {},
   "source": [
    "Solve using Hartree-Fock approximation"
   ]
  },
  {
   "cell_type": "code",
   "execution_count": null,
   "metadata": {},
   "outputs": [],
   "source": []
  },
  {
   "cell_type": "code",
   "execution_count": null,
   "metadata": {},
   "outputs": [],
   "source": [
    "def plot_energy_landscape(energy_surface_result):\n",
    "    if len(energy_surface_result[0].points) > 1:\n",
    "      plt.plot(energy_surface_result[0].points, energy_surface_result[0].energies, \n",
    "      label=\"COBYLA\")\n",
    "      plt.plot(energy_surface_result[1].points, energy_surface_result[1].energies, \n",
    "      label=\"L_BFGS_B\")\n",
    "      plt.plot(energy_surface_result[2].points, energy_surface_result[2].energies, \n",
    "      label=\"SLSQP\")\n",
    "      plt.xlabel('Atomic distance Deviation(Angstrom)')\n",
    "      plt.ylabel('Energy (hartree)')\n",
    "      plt.legend()\n",
    "      plt.show()\n",
    "    else:\n",
    "        print(\"Total Energy is: \", energy_surface_result.energies[0], \"hartree\")\n",
    "        print(\"(No need to plot, only one configuration calculated.)\")"
   ]
  },
  {
   "cell_type": "code",
   "execution_count": 40,
   "metadata": {
    "id": "ZndobNmjPXNB"
   },
   "outputs": [
    {
     "data": {
      "image/png": "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\n",
      "text/plain": [
       "<Figure size 432x288 with 1 Axes>"
      ]
     },
     "metadata": {
      "needs_background": "light"
     },
     "output_type": "display_data"
    }
   ],
   "source": [
    "plot_energy_landscape(e_s_result)"
   ]
  },
  {
   "cell_type": "code",
   "execution_count": null,
   "metadata": {},
   "outputs": [],
   "source": []
  }
 ],
 "metadata": {
  "accelerator": "GPU",
  "colab": {
   "collapsed_sections": [],
   "name": "Protease.ipynb",
   "provenance": []
  },
  "kernelspec": {
   "display_name": "Qiskit v0.34.2 (ipykernel)",
   "language": "python",
   "name": "python3"
  },
  "language_info": {
   "codemirror_mode": {
    "name": "ipython",
    "version": 3
   },
   "file_extension": ".py",
   "mimetype": "text/x-python",
   "name": "python",
   "nbconvert_exporter": "python",
   "pygments_lexer": "ipython3",
   "version": "3.8.12"
  },
  "widgets": {
   "application/vnd.jupyter.widget-state+json": {
    "state": {},
    "version_major": 2,
    "version_minor": 0
   }
  }
 },
 "nbformat": 4,
 "nbformat_minor": 4
}

    "#                               ['N', [-1.4789,  -1.8922, -0.0291]],\n",
    "#                               ['N', [3.2441, 0.1932, -1.2385]],\n",
    "#                               ['C', [0.1338, -0.2355, 0.8758]],\n",
    "#                               ['C', [-1.3424, -0.6086, 0.659]],\n",
    "#                               ['C', [1.0032,  -0.1458, -0.3839]],\n",
    "#                               ['C', [-2.1158, 0.4356, -0.1257]],\n",
    "#                               ['C', [2.4683, 0.1136, -0.1257]],\n",
    "#                               ['H', [0.1904, 0.7236, -0.1051]],\n",
    "#                               ['H', [0.5783, -0.9764, 1.4071]],\n",
    "#                               ['H', [-0.18319, -0.7041, 1.5545]],\n",
    "#                               ['H', [0.95,-1.0821, -0.9509]],\n",
    "#                               ['H', [0.6339, 0.6568,-1.0331]],\n",
    "#                               ['H', [-1.136,-1.8186,-0.9858]],\n",
    "#                               ['H', [-2.4648,-2.142,-0.0988]],\n",
    "#                               ['H', [2.856,0.078,-2.1693]],\n",
    "#                               ['H', [4.2414,0.3697,-1.1781]],\n",
    "#                               ['H', [-2.645,2.3081,0.0041]],\n",
    "#                               ['C', [-1.4789, -1.8922, -1]]], # Carbon inhibitor\n",
    "#                              charge=0, multiplicity=1)\n",
    "\n",
    "specific_variation = apply_variation_to_atom_pair(variation, atom_pair=(4, 2))\n",
    "\n",
    "# Modified version of glutamine\n",
    "toy_glutamine = Molecule(geometry=\n",
    "                        [['H', [-0.18319, -0.7041, 1.5545]],\n",
    "                         ['H', [-1.136,-1.8186,-0.9858]],\n",
    "                         ['N', [-1.4789,  -1.8922, -0.0291]],\n",
    "                         ['C', [-1.3424, -0.6086, 0.659]],\n",
    "                         ['C', [-1.4789, -1.8922, -1]]], # Carbon inhibitor\n",
    "                          charge=3, multiplicity=1, degrees_of_freedom=[specific_variation]) "
   ]
  },
  {
   "cell_type": "code",
   "execution_count": 3,
   "metadata": {
    "colab": {
     "base_uri": "https://localhost:8080/"
    },
    "id": "KfEMk5QEohoO",
    "outputId": "40cee55e-14e2-4ad6-e910-ebf066b46723"
   },
   "outputs": [
    {
     "name": "stderr",
     "output_type": "stream",
     "text": [
      "/tmp/ipykernel_2171/1573722630.py:3: DeprecationWarning: The PySCFDriver class is deprecated as of version 0.2.0 and will be removed no sooner than 3 months after the release. Instead use the PySCFDriver class from qiskit_nature.drivers.second_quantization.pyscfd.\n",
      "  orbital_maker = PySCFDriver(molecule=toy_glutamine, unit=UnitsType.ANGSTROM, basis='sto3g', max_memory=MAX_MEMORY)\n",
      "/tmp/ipykernel_2171/1573722630.py:4: DeprecationWarning: The ActiveSpaceTransformer class is deprecated as of version 0.2.0 and will be removed no sooner than 3 months after the release. Instead use the ActiveSpaceTransformer class from qiskit_nature.transformers.second_quantization.electronic as a direct replacement.\n",
      "  transformer = ActiveSpaceTransformer(num_electrons=2, num_molecular_orbitals=2)\n"
     ]
    }
   ],
   "source": [
    "import os\n",
    "MAX_MEMORY = int (os.environ.get ('MAX_MEMORY', 80000))## Memory in MB\n",
    "orbital_maker = PySCFDriver(molecule=toy_glutamine, unit=UnitsType.ANGSTROM, basis='sto3g', max_memory=MAX_MEMORY)\n",
    "transformer = ActiveSpaceTransformer(num_electrons=2, num_molecular_orbitals=2)\n",
    "fermonic_hamiltonian = ElectronicStructureProblem(orbital_maker, [transformer])\n",
    "\n",
    "fermonic_hamiltonian.second_q_ops()\n",
    "fermions_to_q = QubitConverter(JordanWignerMapper())"
   ]
  },
  {
   "cell_type": "code",
   "execution_count": 4,
   "metadata": {},
   "outputs": [
    {
     "name": "stdout",
     "output_type": "stream",
     "text": [
      "Total number of adjustable parameters:  15\n"
     ]
    },
    {
     "name": "stderr",
     "output_type": "stream",
     "text": [
      "/tmp/ipykernel_2171/112423353.py:35: DeprecationWarning: The qiskit_nature.drivers.pyscfd.pyscfdriver.PySCFDriver class is deprecated as of version 0.2.0 and will be removed no sooner than 3 months after the release. Instead use the ElectronicStructureMoleculeDriver or VibrationalStructureMoleculeDriver class from qiskit_nature.drivers.second_quantization.\n",
      "  energy_surface_result = energy_surface.sample(fermonic_hamiltonian, np.linspace(-0.5, 5, 30))\n"
     ]
    }
   ],
   "source": [
    "hardware_trial = TwoLocal(num_qubits=5, rotation_blocks = ['rz'], entanglement_blocks = 'cx',\n",
    "                                   entanglement='full', reps=3, skip_unentangled_qubits=True, skip_final_rotation_layer=True)\n",
    "\n",
    "#molecule_info = fermonic_hamiltonian.molecule_data_transformed\n",
    "#num_molecular_orbitals = molecule_info.num_molecular_orbitals\n",
    "#num_spin_orbitals = 2 * num_molecular_orbitals\n",
    "#num_electrons_spin_up_spin_down = (\n",
    "#    molecule_info.num_alpha,\n",
    "#    molecule_info.num_beta,)\n",
    "#initial_state = HartreeFock(\n",
    "#            num_spin_orbitals, num_electrons_spin_up_spin_down, fermions_to_q)\n",
    "\n",
    "#chemistry_trial = UCCSD(\n",
    "#            fermions_to_q,\n",
    "#            num_electrons_spin_up_spin_down,\n",
    "#            num_spin_orbitals,\n",
    "#            initial_state=initial_state,\n",
    "#)\n",
    "\n",
    "\n",
    "\n",
    "quantum_environment = QuantumInstance(Aer.get_backend('statevector_simulator'))\n",
    "#provider = IBMQ.load_account()\n",
    "#quantum_environment = QuantumInstance(provider.backend.ibmq_lima)\n",
    "\n",
    "# Solve using VQE\n",
    "vqe = VQE(ansatz=hardware_trial, quantum_instance=quantum_environment)\n",
    "\n",
    "ground_state = GroundStateEigensolver(fermions_to_q, vqe)\n",
    "# ground_state = ground_state.solve(fermonic_hamiltonian)\n",
    "\n",
    "energy_surface = BOPESSampler(gss=ground_state, bootstrap=False)\n",
    "total_number_of_parameters = len(hardware_trial._ordered_parameters)\n",
    "print(\"Total number of adjustable parameters: \", total_number_of_parameters)\n",
    "energy_surface_result = energy_surface.sample(fermonic_hamiltonian, np.linspace(-0.5, 5, 30))"
   ]
  },
  {
   "cell_type": "code",
   "execution_count": 5,
   "metadata": {},
   "outputs": [
    {
     "name": "stdout",
     "output_type": "stream",
     "text": [
      "Traceback \u001b[1;36m(most recent call last)\u001b[0m:\n",
      "\u001b[1;36m  Input \u001b[1;32mIn [5]\u001b[1;36m in \u001b[1;35m<module>\u001b[1;36m\u001b[0m\n",
      "\u001b[1;33m    job.status()\u001b[0m\n",
      "\u001b[1;31mNameError\u001b[0m\u001b[1;31m:\u001b[0m name 'job' is not defined\n",
      "\n",
      "Use %tb to get the full traceback.\n"
     ]
    },
    {
     "data": {
      "text/html": [
       "\n",
       "<style>\n",
       ".button {\n",
       "  border: none;\n",
       "  color: white;\n",
       "  padding: 4px 8px;\n",
       "  text-align: center;\n",
       "  text-decoration: none;\n",
       "  display: inline-block;\n",
       "  font-size: 12px;\n",
       "  margin: 4px 2px;\n",
       "  transition-duration: 0.2s;\n",
       "  cursor: pointer;\n",
       "}\n",
       ".iqx-button {\n",
       "  background-color: #0f62fe; \n",
       "  color: white; \n",
       "}\n",
       ".iqx-button:hover {\n",
       "  background-color: #0043ce;\n",
       "  color: white;\n",
       "}\n",
       "</style>\n",
       "<a href=\"https://stackoverflow.com/search?q=NameError: name 'job' is not defined\" target='_blank'><button class='button iqx-button'>Search for solution online</button></a>\n"
      ],
      "text/plain": [
       "<IPython.core.display.HTML object>"
      ]
     },
     "metadata": {},
     "output_type": "display_data"
    }
   ],
   "source": [
    "job.status()"
   ]
  },
  {
   "cell_type": "code",
   "execution_count": null,
   "metadata": {},
   "outputs": [],
   "source": [
    "ground_state = GroundStateEigensolver(fermions_to_q, vqe)\n",
    "\n",
    "energy_surface = BOPESSampler(gss=ground_state, bootstrap=False)\n",
    "total_number_of_parameters = len(hardware_trial._ordered_parameters)\n",
    "print(\"Total number of adjustable parameters: \", total_number_of_parameters)\n",
    "energy_surface_result = energy_surface.sample(fermonic_hamiltonian, np.linspace(-0.5, 5, 30))"
   ]
  },
  {
   "cell_type": "code",
   "execution_count": 8,
   "metadata": {},
   "outputs": [],
   "source": [
    "def plot_energy_landscape(energy_surface_result):\n",
    "    if len(energy_surface_result.points) > 1:\n",
    "      plt.plot(energy_surface_result.points, energy_surface_result.energies, \n",
    "      label=\"VQE Energy\")\n",
    "      plt.xlabel('Atomic distance Deviation(Angstrom)')\n",
    "      plt.ylabel('Energy (hartree)')\n",
    "      plt.legend()\n",
    "      plt.show()\n",
    "    else:\n",
    "        print(\"Total Energy is: \", energy_surface_result.energies[0], \"hartree\")\n",
    "        print(\"(No need to plot, only one configuration calculated.)\")"
   ]
  },
  {
   "cell_type": "code",
   "execution_count": 9,
   "metadata": {
    "id": "ZndobNmjPXNB"
   },
   "outputs": [
    {
     "data": {
      "image/png": "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\n",
      "text/plain": [
       "<Figure size 432x288 with 1 Axes>"
      ]
     },
     "metadata": {
      "needs_background": "light"
     },
     "output_type": "display_data"
    }
   ],
   "source": [
    "plot_energy_landscape(energy_surface_result)"
   ]
  },
  {
   "cell_type": "code",
   "execution_count": null,
   "metadata": {},
   "outputs": [],
   "source": []
  }
 ],
 "metadata": {
  "accelerator": "GPU",
  "colab": {
   "collapsed_sections": [],
   "name": "Protease.ipynb",
   "provenance": []
  },
  "kernelspec": {
   "display_name": "Qiskit v0.34.2 (ipykernel)",
   "language": "python",
   "name": "python3"
  },
  "language_info": {
   "codemirror_mode": {
    "name": "ipython",
    "version": 3
   },
   "file_extension": ".py",
   "mimetype": "text/x-python",
   "name": "python",
   "nbconvert_exporter": "python",
   "pygments_lexer": "ipython3",
   "version": "3.8.12"
  },
  "widgets": {
   "application/vnd.jupyter.widget-state+json": {
    "state": {},
    "version_major": 2,
    "version_minor": 0
   }
  }
 },
 "nbformat": 4,
 "nbformat_minor": 4
}
